{
 "cells": [
  {
   "cell_type": "code",
   "execution_count": 1,
   "metadata": {},
   "outputs": [],
   "source": [
    "from math import ceil, floor, sqrt\n",
    "import numpy as np"
   ]
  },
  {
   "cell_type": "code",
   "execution_count": 2,
   "metadata": {},
   "outputs": [],
   "source": [
    "import logging\n",
    "log = logging.getLogger(__name__)\n",
    "logging.basicConfig(level=logging.INFO, format='%(message)s') # Additional args: %(asctime)s %(levelname)s\n",
    "log.setLevel(logging.DEBUG) # Comment or modify to INFO to avoid verbose logs"
   ]
  },
  {
   "cell_type": "code",
   "execution_count": 3,
   "metadata": {},
   "outputs": [],
   "source": [
    "# Storage mass constant\n",
    "C = 10**12\n",
    "# Number of dworks per 1 KAS (dworks are also known as sompis, and are the smallest KAS unit)\n",
    "K = 10**8\n",
    "# Maximal (standard) mass per Tx\n",
    "M = 10**5\n",
    "# Current standard mass-to-fee ratio is 1, meaning that a Tx with M mass is expected to pay a fee of M dworks \n",
    "MASS_FEE_RATIO = 1\n",
    "# Standard mass for a Tx with maximal mass \n",
    "F = MASS_FEE_RATIO * M\n",
    "# The threshold for which below it we give up the change and turn it into fee\n",
    "CHANGE_THRESHOLD = F\n",
    "# The maximum storage mass allowed to use for a single payment (which could be composed of several chained txs)\n",
    "MAX_PAYMENT_MASS = 20 * M"
   ]
  },
  {
   "cell_type": "code",
   "execution_count": 4,
   "metadata": {},
   "outputs": [],
   "source": [
    "SPK_STD_LEN = 36 # version len + p2pk len\n",
    "SIG_STD_LEN = 66 # schnorr sig is 64 bytes + 2 op data bytes\n",
    "OUT_SIZE = 8 + 2 + 8 + SPK_STD_LEN\n",
    "IN_SIZE = 32 + 4 + 8 + SIG_STD_LEN + 8\n",
    "TX_FIELDS_SIZE = 2 + 8 + 8 + 8 + 20 + 8 + 32 + 8\n",
    "\n",
    "def estimated_tx_size(inputs_num, outputs_num):\n",
    "    return TX_FIELDS_SIZE + inputs_num * IN_SIZE + outputs_num * OUT_SIZE \n",
    "\n",
    "\"\"\"\n",
    "Calculation of transaction compute mass. For simplicity, the calculation assumes\n",
    "standard signatures and scripts. However other than that it is accurate.\n",
    "\"\"\"\n",
    "def compute_mass(inputs, outputs):\n",
    "    inputs_num, outputs_num = len(inputs), len(outputs)\n",
    "    return 1000 * inputs_num + 10 * SPK_STD_LEN * outputs_num + estimated_tx_size(inputs_num, outputs_num)"
   ]
  },
  {
   "cell_type": "code",
   "execution_count": 5,
   "metadata": {},
   "outputs": [],
   "source": [
    "\"\"\"\n",
    "Calculates the negative component of the storage mass formula. Note that there is no dependency on output\n",
    "values but only on their count. The code is designed to maximize precision and to avoid intermediate overflows.\n",
    "\"\"\"\n",
    "def negative_mass(inputs, outputs_num):\n",
    "    inputs_num = len(inputs)\n",
    "    if outputs_num == 1 or inputs_num == 1 or (outputs_num == 2 and inputs_num == 2):\n",
    "        return sum(C//v for v in inputs)\n",
    "    return inputs_num*(C//(sum(inputs)//inputs_num)) \n",
    "\n",
    "\"\"\"\n",
    "Calculates the storage mass for the provided input/output collections \n",
    "\"\"\"\n",
    "def storage_mass(inputs, outputs):\n",
    "    N = negative_mass(inputs, outputs_num=len(outputs))\n",
    "    P = sum(C//o for o in outputs)\n",
    "    return max(P-N, 0)\n",
    "\n",
    "\"\"\"\n",
    "Calculates the overall mass of this transaction\n",
    "\"\"\"\n",
    "def mass(inputs, outputs):\n",
    "    return max(storage_mass(inputs, outputs), compute_mass(inputs, outputs)) "
   ]
  },
  {
   "cell_type": "code",
   "execution_count": 6,
   "metadata": {},
   "outputs": [],
   "source": [
    "\"\"\"\n",
    "Implements the algorithm for creating a minimal chain of transactions which can make \n",
    "the desired payment without passing storage mass limits locally per transaction\n",
    "\"\"\"\n",
    "def create_payment_chain(inputs, payment):\n",
    "    txs = []\n",
    "    while storage_mass(inputs, outputs=[payment, sum(inputs) - payment - F]) > M:\n",
    "        T = sum(inputs) - F\n",
    "        N = negative_mass(inputs, 2) \n",
    "        D = (M + N)*T/C\n",
    "        if D**2 - 4*D < 0:\n",
    "            # Indiactes that a single small input was used. Adding another input might help \n",
    "            raise Exception('The input is too small, try adding one more input (negative sqrt)')\n",
    "        # Single step optimization, taking the smaller solution\n",
    "        alpha = (D - sqrt(D**2 - 4*D))/(2*D) \n",
    "        # Round *up* in order to not increase the mass above M\n",
    "        outputs = [ceil(alpha * T), T - ceil(alpha * T)]\n",
    "        if inputs == outputs:\n",
    "            # The process reached a point where the ceil round up prevents further progress.\n",
    "            raise Exception('The inputs and the payment need to be closer in value (integer precision)')\n",
    "        txs.append((inputs, outputs))\n",
    "        log.debug(storage_mass(inputs, outputs))\n",
    "        inputs = outputs\n",
    "    txs.append((inputs, [payment, sum(inputs) - payment - F]))\n",
    "    log.debug(storage_mass(*txs[-1]))\n",
    "    return txs"
   ]
  },
  {
   "cell_type": "markdown",
   "metadata": {},
   "source": [
    "### Optimal fee\n",
    "\n",
    "Given a set of inputs and a payment amount, calculating the optimal fee requires solving the following optimization problem. The reader can skip the formal explanation and read the code directly.  \n",
    "\n",
    "#### Notation\n",
    "\n",
    "Let $P$ be the payment value and denote $I$ to be the set of input values. Let $S = \\sum_{v \\in I}v$. Denote $N_1, N_2$ to be the negative component of the storage mass assuming $1, 2$ outputs respectively (note that if $|I| > 2$ they can be different). Additionally, denote $U_1, U_2$ to be the compute mass assuming $1, 2$ outputs respectively. Finally, let $m$ be the unknown mass and let $\\text{fee} = mR$ where $R$ is the mass-to-fee ratio. \n",
    "\n",
    "#### Optimization\n",
    "\n",
    "There are two possible paths. The first is to have no change output which means using all remaining funds as fee. In this case we have \n",
    "$$m = \\max \\Big\\lbrace \\frac{C}{P} - N_1, U_1 \\Big\\rbrace, \\,\\, \\text{fee} = S - P\\text{.}$$\n",
    "If $\\text{fee} \\ge mR$, this path can be considered. \n",
    "\n",
    "The second path is to have a change output. In this case we have\n",
    "$$m=\\frac{C}{P} + \\frac{C}{S-P-mR} - N_2\\text{;}$$\n",
    "along with two additional constrains: (i) $m \\ge U_2$; and (ii) $S-P > mR$. The above equation translates to $\\big(m+N_2-C/P\\big)\\big(S-P-mR\\big)-C=0$ which solutions for are\n",
    "$$m=\\frac{\\Big(\\frac{CR}{P}-N_2 R-P+S\\Big) \\pm \\sqrt{\\big(\\frac{CR}{P}-N_2 R-P+S\\big)^2+4R\\big(N_2 S - N_2 P - \\frac{CS}{P}\\big)}}{2R}\n",
    "\\text{.}$$\n",
    "\n",
    "The following algorithm implements this search: "
   ]
  },
  {
   "cell_type": "code",
   "execution_count": 7,
   "metadata": {},
   "outputs": [],
   "source": [
    "def optimal_fee(inputs, payment):\n",
    "    P = payment\n",
    "    S = sum(inputs)\n",
    "    R = MASS_FEE_RATIO\n",
    "    N1 = negative_mass(inputs, outputs_num=1)\n",
    "    N2 = negative_mass(inputs, outputs_num=1)\n",
    "    U1 = compute_mass(inputs, outputs=[payment])\n",
    "    U2 = compute_mass(inputs, outputs=[payment - 1, 1])\n",
    "    \n",
    "    sol = []\n",
    "    a = R\n",
    "    b = (C*R)/P-N2*R-P+S  # Actually minus b\n",
    "    c = N2*S-N2*P-(C*S)/P # Actually minus c\n",
    "    n = b**2+4*a*c\n",
    "    if n >= 0:\n",
    "        sq = sqrt(n)\n",
    "        m1 = max(floor((b-sq)/(2*a)), U2)\n",
    "        m2 = max(floor((b+sq)/(2*a)), U2)\n",
    "        if S-P > m1*R:\n",
    "            sol.append((m1, U2, m1*R, S-P-m1*R)) # (mass, cmass, fee, change)\n",
    "        if S-P > m2*R:\n",
    "            sol.append((m2, U2, m2*R, S-P-m2*R)) # (mass, cmass, fee, change)\n",
    "    m3 = max(C//P-N1, U1) # No change path\n",
    "    if S-P >= m3*R:\n",
    "        sol.append((m3, U1, S-P, 0)) # (mass, cmass, fee, change)\n",
    "    log.debug(f'[optimal fee] inputs: %s, payment: %d, sol: %s', inputs, payment, sol)\n",
    "    # By order of insertion, the first entry will always be the one with minimum fee \n",
    "    return sol[0] if sol else (None, None, None, None)"
   ]
  },
  {
   "cell_type": "code",
   "execution_count": 8,
   "metadata": {},
   "outputs": [],
   "source": [
    "\"\"\"\n",
    "Helper class for managing the available UTXO entries\n",
    "\"\"\"\n",
    "class Context:\n",
    "    def __init__(self, utxos):\n",
    "        # The full list of currently available UTXO entries\n",
    "        self.utxos = utxos.copy()\n",
    "        log.debug(f'[context::ctor] utxos: %s', self.utxos)\n",
    "    \n",
    "    def has_any(self):\n",
    "        return len(self.utxos) > 0\n",
    "    \n",
    "    def has_above(self, threshold):\n",
    "        utxos = np.array(self.utxos, dtype=np.uint64)\n",
    "        return any(utxos >= threshold)\n",
    "    \n",
    "    # Returns the min UTXO above `threshold` or the max below it if no such value exists \n",
    "    def pop_min_above(self, threshold):\n",
    "        utxos = np.array(self.utxos, dtype=np.uint64)\n",
    "        large = utxos[utxos >= threshold]\n",
    "        if len(large) > 0:\n",
    "            item = min(large)\n",
    "        else:\n",
    "            item = max(utxos)\n",
    "        self.utxos.remove(item)\n",
    "        return item\n",
    "    \n",
    "    # Returns the max UTXO below `threshold` or the min above it if no such value exists\n",
    "    def pop_max_below(self, threshold):\n",
    "        utxos = np.array(self.utxos, dtype=np.uint64)\n",
    "        small = utxos[utxos <= threshold]\n",
    "        if len(small) > 0:\n",
    "            item = max(small)\n",
    "        else:\n",
    "            item = min(utxos)\n",
    "        self.utxos.remove(item)\n",
    "        return item\n",
    "    "
   ]
  },
  {
   "cell_type": "code",
   "execution_count": 9,
   "metadata": {},
   "outputs": [
    {
     "name": "stderr",
     "output_type": "stream",
     "text": [
      "[context::ctor] utxos: [1000000000, 200000000, 1200000000, 300000000]\n",
      "[optimal fee] inputs: [200000000], payment: 10000000, sol: [(100265, 2040, 100265, 189899735.0), (189994734, 2040, 189994734, 5266.0), (95000.0, 1626, 190000000.0, 0)]\n",
      "99999.0\n",
      "269.0\n"
     ]
    },
    {
     "data": {
      "text/plain": [
       "[([200000000], [10026739, 189873261.0]),\n",
       " ([10026739, 189873261.0], [10000000, 189800000.0])]"
      ]
     },
     "execution_count": 9,
     "metadata": {},
     "output_type": "execute_result"
    }
   ],
   "source": [
    "\n",
    "\"\"\"\n",
    "Main entry point for a send operation. Using the available `utxos`, creates transaction(s)\n",
    "for sending the desired `amount`, while minimizing mass and fees as much as possible\n",
    "\"\"\"\n",
    "def create_transactions(utxos, payment):\n",
    "    # Processing context\n",
    "    ctx = Context(utxos)\n",
    "    \n",
    "    if ctx.has_above(threshold=payment):\n",
    "        # Storage mass zone\n",
    "        inputs = [ctx.pop_min_above(threshold=payment)]\n",
    "        mass, cmass, fee, change = optimal_fee(inputs, payment)\n",
    "        while ctx.has_any():\n",
    "            if mass: # Indicates a solution exists\n",
    "                if change > 0: # Indicates that fee is tight (with relation to mass)\n",
    "                # if mass == cmass: # Indicates that adding inputs will not reduce the mass\n",
    "                   break\n",
    "            inputs.append(ctx.pop_max_below(payment))\n",
    "            mass, cmass, fee, change = optimal_fee(inputs, payment)\n",
    "    \n",
    "        if mass is None:\n",
    "            raise Exception('insufficient funds')\n",
    "        if change == 0:\n",
    "            raise Exception('make sure fee %d is ok with user'.format(fee))\n",
    "            \n",
    "        return create_payment_chain(inputs, payment)\n",
    "        \n",
    "            \n",
    "    # Else -- compute mass zone -- all utxos are smaller than `payment`\n",
    "    # In this case all current wallet algorithms should work without\n",
    "    # modification, including compounding logic etc. The only exception\n",
    "    # is the case where the change is randomly small which should be\n",
    "    # handled either by adding inputs or by giving up the change and adding \n",
    "    # it as fee\n",
    "    raise Exception('not implemented - storage mass logic is insignificant for compounding cases')\n",
    "\n",
    "create_transactions([10*K, 2*K, 12*K, 3*K], int(K*0.1))"
   ]
  },
  {
   "cell_type": "code",
   "execution_count": 10,
   "metadata": {},
   "outputs": [
    {
     "name": "stderr",
     "output_type": "stream",
     "text": [
      "[optimal fee] inputs: [100000000, 100000000], payment: 50000000, sol: [(6666, 3158, 6666, 149993334), (149993333, 3158, 149993333, 6667), (2744, 2744, 150000000, 0)]\n"
     ]
    },
    {
     "data": {
      "text/plain": [
       "(6666, 6666, 6711, 6622)"
      ]
     },
     "execution_count": 10,
     "metadata": {},
     "output_type": "execute_result"
    }
   ],
   "source": [
    "MASS_FEE_RATIO = 1\n",
    "inputs = [K]*2 # [int(K*0.2)]*4\n",
    "payment = int(K*0.5)\n",
    "m, cm, fee, change = optimal_fee(inputs, payment)\n",
    "m, mass(inputs, [payment, change]), mass(inputs, [payment, change - 1000000]), mass(inputs, [payment, change + 1000000])"
   ]
  },
  {
   "cell_type": "code",
   "execution_count": 11,
   "metadata": {},
   "outputs": [
    {
     "data": {
      "text/plain": [
       "367777"
      ]
     },
     "execution_count": 11,
     "metadata": {},
     "output_type": "execute_result"
    }
   ],
   "source": [
    "mass([int(K*0.02), int(K*0.02)], [int(K*0.01), 2719034])"
   ]
  },
  {
   "cell_type": "code",
   "execution_count": 12,
   "metadata": {},
   "outputs": [
    {
     "name": "stderr",
     "output_type": "stream",
     "text": [
      "[optimal fee] inputs: [1000000000], payment: 99000000, sol: [(10210, 2040, 10210, 900989790), (900998890, 2040, 900998890, 1110), (9101, 1626, 901000000, 0)]\n"
     ]
    },
    {
     "data": {
      "text/plain": [
       "(10210, 2040, 10210, 900989790)"
      ]
     },
     "execution_count": 12,
     "metadata": {},
     "output_type": "execute_result"
    }
   ],
   "source": [
    "optimal_fee([K*10], K-int(K*0.01))"
   ]
  },
  {
   "cell_type": "code",
   "execution_count": null,
   "metadata": {},
   "outputs": [],
   "source": []
  }
 ],
 "metadata": {
  "kernelspec": {
   "display_name": "Python 3",
   "language": "python",
   "name": "python3"
  },
  "language_info": {
   "codemirror_mode": {
    "name": "ipython",
    "version": 3
   },
   "file_extension": ".py",
   "mimetype": "text/x-python",
   "name": "python",
   "nbconvert_exporter": "python",
   "pygments_lexer": "ipython3",
   "version": "3.6.5"
  }
 },
 "nbformat": 4,
 "nbformat_minor": 2
}
