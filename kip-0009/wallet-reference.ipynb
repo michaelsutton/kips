{
 "cells": [
  {
   "cell_type": "code",
   "execution_count": 58,
   "metadata": {},
   "outputs": [],
   "source": [
    "from math import ceil, sqrt\n",
    "import numpy as np"
   ]
  },
  {
   "cell_type": "code",
   "execution_count": 77,
   "metadata": {},
   "outputs": [],
   "source": [
    "import logging\n",
    "log = logging.getLogger(__name__)\n",
    "logging.basicConfig(level=logging.INFO, format='%(message)s') # Additional args: %(asctime)s %(levelname)s\n",
    "log.setLevel(logging.DEBUG) # Comment or modify to INFO to avoid verbose logs"
   ]
  },
  {
   "cell_type": "code",
   "execution_count": 78,
   "metadata": {},
   "outputs": [],
   "source": [
    "# Storage mass constant\n",
    "C = 10**12\n",
    "# Number of dworks per 1 KAS (dworks are also known as sompis, and are the smallest KAS unit)\n",
    "S = 10**8\n",
    "# Maximal (standard) mass per Tx\n",
    "M = 10**5\n",
    "# Current standard mass-to-fee ratio is 1, meaning that a Tx with M mass is expected to pay a fee of M dworks \n",
    "MASS_FEE_RATIO = 1\n",
    "# Standard mass for a Tx with maximal mass \n",
    "F = MASS_FEE_RATIO * M\n",
    "# The threshold for which below it we give up the change and turn it into fee\n",
    "CHANGE_THRESHOLD = F\n",
    "# The maximum storage mass allowed to use for a single payment (which could be composed of several chained txs)\n",
    "MAX_PAYMENT_MASS = 20 * M"
   ]
  },
  {
   "cell_type": "code",
   "execution_count": 4,
   "metadata": {},
   "outputs": [],
   "source": [
    "SPK_STD_LEN = 36 # version len + p2pk len\n",
    "SIG_STD_LEN = 66 # schnorr sig is 64 bytes + 2 op data bytes\n",
    "OUT_SIZE = 8 + 2 + 8 + SPK_STD_LEN\n",
    "IN_SIZE = 32 + 4 + 8 + SIG_STD_LEN + 8\n",
    "TX_FIELDS_SIZE = 2 + 8 + 8 + 8 + 20 + 8 + 32 + 8\n",
    "\n",
    "def estimated_tx_size(inputs_num, outputs_num):\n",
    "    return TX_FIELDS_SIZE + inputs_num * IN_SIZE + outputs_num * OUT_SIZE \n",
    "\n",
    "\"\"\"\n",
    "Calculation of transaction compute mass. For simplicity, the calculation assumes\n",
    "standard signatures and scripts. However other than that it is accurate.\n",
    "\"\"\"\n",
    "def compute_mass(inputs, outputs):\n",
    "    inputs_num, outputs_num = len(inputs), len(outputs)\n",
    "    return 1000 * inputs_num + 10 * SPK_STD_LEN * outputs_num + estimated_tx_size(inputs_num, outputs_num)"
   ]
  },
  {
   "cell_type": "code",
   "execution_count": 5,
   "metadata": {},
   "outputs": [],
   "source": [
    "\"\"\"\n",
    "Calculates the negative component of the storage mass formula. Note that there is no dependency on output\n",
    "values but only on their count. The code is designed to maximize precision and to avoid intermediate overflows.\n",
    "\"\"\"\n",
    "def negative_mass(inputs, outputs_num):\n",
    "    inputs_num = len(inputs)\n",
    "    if outputs_num == 1 or inputs_num == 1 or (outputs_num == 2 and inputs_num == 2):\n",
    "        return sum(C//v for v in inputs)\n",
    "    return inputs_num*(C//(sum(inputs)//inputs_num)) \n",
    "\n",
    "\"\"\"\n",
    "Calculates the storage mass for the provided input/output collections \n",
    "\"\"\"\n",
    "def storage_mass(inputs, outputs):\n",
    "    N = negative_mass(inputs, outputs_num=len(outputs))\n",
    "    P = sum(C//o for o in outputs)\n",
    "    return max(P-N, 0)\n",
    "\n",
    "\"\"\"\n",
    "Calculates the overall mass of this transaction\n",
    "\"\"\"\n",
    "def mass(inputs, outputs):\n",
    "    return max(storage_mass(inputs, outputs), compute_mass(inputs, outputs)) "
   ]
  },
  {
   "cell_type": "code",
   "execution_count": 80,
   "metadata": {},
   "outputs": [],
   "source": [
    "\"\"\"\n",
    "Implements the algorithm for creating a minimal chain of transactions which can make \n",
    "the desired payment without passing storage mass limits locally per transaction\n",
    "\"\"\"\n",
    "def create_payment_chain(inputs, payment):\n",
    "    txs = []\n",
    "    while storage_mass(inputs, outputs=[payment, sum(inputs) - payment - F]) > M:\n",
    "        T = sum(inputs) - F\n",
    "        N = negative_mass(inputs, 2) \n",
    "        D = (M + N)*T/C\n",
    "        if D**2 - 4*D < 0:\n",
    "            # Indiactes that a single small input was used. Adding another input might help \n",
    "            raise Exception('The input is too small, try adding one more input (negative sqrt)')\n",
    "        # Single step optimization, taking the smaller solution\n",
    "        alpha = (D - sqrt(D**2 - 4*D))/(2*D) \n",
    "        # Round *up* in order to not increase the mass above M\n",
    "        outputs = [ceil(alpha * T), T - ceil(alpha * T)]\n",
    "        if inputs == outputs:\n",
    "            # The process reached a point where the ceil round up prevents further progress.\n",
    "            raise Exception('The inputs and the payment need to be closer in value (integer precision)')\n",
    "        txs.append((inputs, outputs))\n",
    "        log.debug(storage_mass(inputs, outputs))\n",
    "        inputs = outputs\n",
    "    txs.append((inputs, [payment, sum(inputs) - payment - F]))\n",
    "    log.debug(storage_mass(*txs[-1]))\n",
    "    return txs"
   ]
  },
  {
   "cell_type": "code",
   "execution_count": 96,
   "metadata": {},
   "outputs": [],
   "source": [
    "\"\"\"\n",
    "Helper class for managing the available UTXO entries\n",
    "\"\"\"\n",
    "class Context:\n",
    "    def __init__(self, utxos):\n",
    "        # The full list of currently available UTXO entries\n",
    "        self.utxos = utxos.copy()\n",
    "        log.debug(self.utxos)\n",
    "    \n",
    "    def has_any(self):\n",
    "        return len(self.utxos) > 0\n",
    "    \n",
    "    def has_above(self, threshold):\n",
    "        utxos = np.array(self.utxos, dtype=np.uint64)\n",
    "        return any(utxos >= threshold)\n",
    "    \n",
    "    def pop_min_above(self, threshold):\n",
    "        utxos = np.array(self.utxos, dtype=np.uint64)\n",
    "        large = utxos[utxos >= threshold]\n",
    "        if len(large) > 0:\n",
    "            item = min(large)\n",
    "        else:\n",
    "            item = max(utxos)\n",
    "        self.utxos.remove(item)\n",
    "        return item\n",
    "\n",
    "    def pop_max_below(self, threshold):\n",
    "        utxos = np.array(self.utxos, dtype=np.uint64)\n",
    "        small = utxos[utxos <= threshold]\n",
    "        if len(small) > 0:\n",
    "            item = max(small)\n",
    "        else:\n",
    "            item = min(utxos)\n",
    "        self.utxos.remove(item)\n",
    "        return item\n",
    "    \n",
    "    def pop_max(self):\n",
    "        item = max(self.utxos)\n",
    "        self.utxos.remove(item)\n",
    "        return item\n",
    "\n",
    "    def pop_min(self):\n",
    "        item = min(self.utxos)\n",
    "        self.utxos.remove(item)\n",
    "        return item\n",
    "    "
   ]
  },
  {
   "cell_type": "code",
   "execution_count": 95,
   "metadata": {},
   "outputs": [
    {
     "name": "stderr",
     "output_type": "stream",
     "text": [
      "[1000000000, 200000000, 1200000000, 300000000]\n",
      "0\n"
     ]
    },
    {
     "data": {
      "text/plain": [
       "[([1200000000, 1000000000], [1100000000, 1099900000.0])]"
      ]
     },
     "execution_count": 95,
     "metadata": {},
     "output_type": "execute_result"
    }
   ],
   "source": [
    "\"\"\"\n",
    "Main entry point for a send operation. Using the available `utxos`, creates transaction(s)\n",
    "for sending the desired `amount`, while minimizing mass and fees as much as possible\n",
    "\"\"\"\n",
    "def create_transactions(utxos, amount):\n",
    "    \n",
    "    # Baseline mass for a 1:1 Tx\n",
    "    min_mass = compute_mass([amount], [amount])\n",
    "    # Baseline fee\n",
    "    min_fee = min_mass * MASS_FEE_RATIO\n",
    "    \n",
    "    if sum(utxos) < amount + min_fee:\n",
    "        raise Exception('insufficient funds')\n",
    "    \n",
    "    if sum(utxos) - amount - min_fee < CHANGE_THRESHOLD:\n",
    "        # If the change value is too small, the storage mass will be large. At some range\n",
    "        # it is best to simply give it up and add it to the fee (of course this can be \n",
    "        # reconfigured based on user feedback) \n",
    "        return [(utxos, [amount])] # TODO: compounding\n",
    "        \n",
    "        \n",
    "    # Baseline mass for a 1:2 Tx\n",
    "    min_mass = compute_mass([amount], [amount//2, amount//2])\n",
    "    # Baseline fee\n",
    "    min_fee = min_mass * MASS_FEE_RATIO\n",
    "    \n",
    "    # Processing context\n",
    "    ctx = Context(utxos)\n",
    "    \n",
    "    if ctx.has_above(threshold=amount+min_fee):\n",
    "        # Storage mass zone\n",
    "        inputs = [ctx.pop_min_above(threshold=amount+min_fee)] # Take the minimal utxo with sufficient funds\n",
    "        change = sum(inputs) - amount - min_fee\n",
    "        if change == 0:\n",
    "            return [(inputs, [amount])]\n",
    "        storm = storage_mass(inputs, [amount, change])\n",
    "        if storm > min_mass and ctx.has_any():\n",
    "            # Adding another input will reduce the storage mass \n",
    "            inputs.append(ctx.pop_max_below(amount-min_fee))\n",
    "        return create_payment_chain(inputs, payment=amount)\n",
    "            \n",
    "    else:\n",
    "        # Compute mass zone -- all utxos are smaller than `amount`\n",
    "        # In this case all current wallet algorithms should work without\n",
    "        # modification, including compounding logic etc. The only exception\n",
    "        # is the case where the change is randomly small which should be\n",
    "        # handled either by adding inputs or by giving up the change and adding \n",
    "        # it as fee\n",
    "        raise Exception('not implemented - storage mass logic is insignificant for compounding cases')\n",
    "\n",
    "create_transactions([10*S, 2*S, 12*S, 3*S], 11*S)"
   ]
  },
  {
   "cell_type": "code",
   "execution_count": null,
   "metadata": {},
   "outputs": [],
   "source": []
  }
 ],
 "metadata": {
  "kernelspec": {
   "display_name": "Python 3",
   "language": "python",
   "name": "python3"
  },
  "language_info": {
   "codemirror_mode": {
    "name": "ipython",
    "version": 3
   },
   "file_extension": ".py",
   "mimetype": "text/x-python",
   "name": "python",
   "nbconvert_exporter": "python",
   "pygments_lexer": "ipython3",
   "version": "3.6.5"
  }
 },
 "nbformat": 4,
 "nbformat_minor": 2
}
