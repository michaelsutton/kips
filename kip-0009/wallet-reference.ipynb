{
 "cells": [
  {
   "cell_type": "code",
   "execution_count": 1,
   "metadata": {},
   "outputs": [],
   "source": [
    "from math import ceil, sqrt"
   ]
  },
  {
   "cell_type": "code",
   "execution_count": 2,
   "metadata": {},
   "outputs": [],
   "source": [
    "import logging\n",
    "logger = logging.getLogger(__name__)\n",
    "logging.basicConfig(level=logging.INFO, format='%(message)s') # %(asctime)s %(levelname)s"
   ]
  },
  {
   "cell_type": "code",
   "execution_count": 3,
   "metadata": {},
   "outputs": [],
   "source": [
    "C = 10**12\n",
    "S = 10**8\n",
    "M = 10**5\n",
    "F = 0 # TEMP"
   ]
  },
  {
   "cell_type": "code",
   "execution_count": 4,
   "metadata": {},
   "outputs": [],
   "source": [
    "\"\"\"\n",
    "Calculation of transaction compute mass. For simplicity, the calculation assumes\n",
    "standard signatures and scripts. However other than that it is accurate.\n",
    "\"\"\"\n",
    "\n",
    "SPK_STD_LEN = 36 # version len + p2pk len\n",
    "SIG_STD_LEN = 66 # schnorr sig is 64 bytes + 2 op data bytes\n",
    "OUT_SIZE = 8 + 2 + 8 + SPK_STD_LEN\n",
    "IN_SIZE = 32 + 4 + 8 + SIG_STD_LEN + 8\n",
    "TX_FIELDS_SIZE = 2 + 8 + 8 + 8 + 20 + 8 + 32 + 8\n",
    "\n",
    "def estimated_tx_size(inputs_num, outputs_num):\n",
    "    return TX_FIELDS_SIZE + inputs_num * IN_SIZE + outputs_num * OUT_SIZE \n",
    "\n",
    "def compute_mass(inputs, outputs):\n",
    "    inputs_num, outputs_num = len(inputs), len(outputs)\n",
    "    return 1000 * inputs_num + 10 * SPK_STD_LEN * outputs_num + estimated_tx_size(inputs_num, outputs_num)"
   ]
  },
  {
   "cell_type": "code",
   "execution_count": 5,
   "metadata": {},
   "outputs": [],
   "source": [
    "def negative_mass(inputs, outputs_num):\n",
    "    \"\"\"\n",
    "    Calculates the negative component of the storage mass formula. Note that there is no dependency on output\n",
    "    values but only on their count. The code is designed to maximize precision and to avoid intermediate overflows.\n",
    "    \"\"\"\n",
    "    inputs_num = len(inputs)\n",
    "    if outputs_num == 1 or inputs_num == 1 or (outputs_num == 2 and inputs_num == 2):\n",
    "        return sum(C//v for v in inputs)\n",
    "    return inputs_num*(C//(sum(inputs)//inputs_num)) \n",
    "\n",
    "def storage_mass(inputs, outputs):\n",
    "    N = negative_mass(inputs, outputs_num=len(outputs))\n",
    "    P = sum(C//o for o in outputs)\n",
    "    return max(P-N, 0)\n",
    "\n",
    "def mass(inputs, outputs):\n",
    "    return max(storage_mass(inputs, outputs), compute_mass(inputs, outputs)) "
   ]
  },
  {
   "cell_type": "code",
   "execution_count": 6,
   "metadata": {},
   "outputs": [],
   "source": [
    "def build_txs(inputs, payment):\n",
    "    txs = []\n",
    "    while storage_mass(inputs, outputs=[payment, sum(inputs) - payment - F]) > M:\n",
    "        T = sum(inputs) - F\n",
    "        N = negative_mass(inputs, 2) \n",
    "        D = (M + N)*T/C\n",
    "        alpha = (D - sqrt(D**2 - 4*D))/(2*D)              # single step optimization, taking the smaller solution \n",
    "        outputs = [ceil(alpha * T), T - ceil(alpha * T)]  # round *up* in order to not increase the mass above M\n",
    "        txs.append((inputs, outputs))\n",
    "        logger.debug(storage_mass(inputs, outputs))\n",
    "        inputs = outputs\n",
    "    txs.append((inputs, [payment, sum(inputs) - payment - F]))\n",
    "    logger.debug(storage_mass(*txs[-1]))\n",
    "    return txs"
   ]
  },
  {
   "cell_type": "code",
   "execution_count": 7,
   "metadata": {},
   "outputs": [
    {
     "data": {
      "text/plain": [
       "(30000, 2040)"
      ]
     },
     "execution_count": 7,
     "metadata": {},
     "output_type": "execute_result"
    }
   ],
   "source": [
    "mass([S], [S//2, S//2]), mass([10000*S], [10000*S//2, 10000*S//2])"
   ]
  },
  {
   "cell_type": "code",
   "execution_count": 8,
   "metadata": {},
   "outputs": [
    {
     "name": "stderr",
     "output_type": "stream",
     "text": [
      "99999\n",
      "99999\n",
      "99999\n",
      "99999\n",
      "99999\n",
      "99999\n",
      "99998\n",
      "99998\n",
      "99998\n",
      "99999\n",
      "99998\n",
      "11217\n"
     ]
    },
    {
     "data": {
      "text/plain": [
       "12"
      ]
     },
     "execution_count": 8,
     "metadata": {},
     "output_type": "execute_result"
    }
   ],
   "source": [
    "logger.setLevel(logging.DEBUG)\n",
    "txs = build_txs([S], int(S*0.009))\n",
    "len(txs)"
   ]
  },
  {
   "cell_type": "code",
   "execution_count": null,
   "metadata": {},
   "outputs": [],
   "source": []
  }
 ],
 "metadata": {
  "kernelspec": {
   "display_name": "Python 3",
   "language": "python",
   "name": "python3"
  },
  "language_info": {
   "codemirror_mode": {
    "name": "ipython",
    "version": 3
   },
   "file_extension": ".py",
   "mimetype": "text/x-python",
   "name": "python",
   "nbconvert_exporter": "python",
   "pygments_lexer": "ipython3",
   "version": "3.6.5"
  }
 },
 "nbformat": 4,
 "nbformat_minor": 2
}
