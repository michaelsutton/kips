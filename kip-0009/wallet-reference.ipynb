{
 "cells": [
  {
   "cell_type": "code",
   "execution_count": 1,
   "metadata": {},
   "outputs": [],
   "source": [
    "from math import ceil, sqrt"
   ]
  },
  {
   "cell_type": "code",
   "execution_count": 2,
   "metadata": {},
   "outputs": [],
   "source": [
    "C = 10**12\n",
    "S = 10**8\n",
    "M = 10**5\n",
    "F = 0 # TEMP"
   ]
  },
  {
   "cell_type": "code",
   "execution_count": 3,
   "metadata": {},
   "outputs": [],
   "source": [
    "def negative_mass(inputs, outputs_num):\n",
    "    \"\"\"\n",
    "    Calculates the negative component of the storage mass formula. Note that there is no dependency on output\n",
    "    values but only on their count. The code is designed to maximize precision and to avoid intermediate overflows.  \n",
    "    In practice, all calculations should be saturating, i.e., clamped between u64::MIN and u64::MAX  \n",
    "    \"\"\"\n",
    "    inputs_num = len(inputs)\n",
    "    if outputs_num == 1 or inputs_num == 1 or (outputs_num == 2 and inputs_num == 2):\n",
    "        return sum(C//v for v in inputs)\n",
    "    return inputs_num*(C//(sum(v for v in inputs)//inputs_num)) \n",
    "\n",
    "def storage_mass(inputs, outputs):\n",
    "    N = negative_mass(inputs, outputs_num=len(outputs))\n",
    "    P = sum(C//o for o in outputs)\n",
    "    return max(P-N, 0)\n",
    "\n",
    "def compute_mass(inputs, outputs):\n",
    "    return 1000 * len(inputs) + 10 * len(outputs)\n",
    "\n",
    "def mass(inputs, outputs):\n",
    "    return max(storage_mass(inputs, outputs), compute_mass(inputs, outputs)) "
   ]
  },
  {
   "cell_type": "code",
   "execution_count": 14,
   "metadata": {},
   "outputs": [],
   "source": [
    "def build_txs(inputs, payment, verbose=False):\n",
    "    txs = []\n",
    "    while storage_mass(inputs, outputs=[payment, sum(inputs) - payment - F]) > M:\n",
    "        T = sum(inputs) - F\n",
    "        N = negative_mass(inputs, 2) \n",
    "        D = (M + N)*T/C\n",
    "        alpha = (D - sqrt(D**2 - 4*D))/(2*D)              # single step optimization, taking the smaller solution \n",
    "        outputs = [ceil(alpha * T), T - ceil(alpha * T)]  # round *up* in order to not increase the mass above M\n",
    "        txs.append((inputs, outputs))\n",
    "        if verbose:\n",
    "            print(storage_mass(inputs, outputs))\n",
    "        inputs = outputs\n",
    "    txs.append((inputs, [payment, sum(inputs) - payment - F]))\n",
    "    if verbose:\n",
    "        print(storage_mass(*txs[-1]))\n",
    "    return txs"
   ]
  },
  {
   "cell_type": "code",
   "execution_count": 15,
   "metadata": {},
   "outputs": [
    {
     "data": {
      "text/plain": [
       "30000"
      ]
     },
     "execution_count": 15,
     "metadata": {},
     "output_type": "execute_result"
    }
   ],
   "source": [
    "storage_mass([S], [S//2, S//2])"
   ]
  },
  {
   "cell_type": "code",
   "execution_count": 16,
   "metadata": {},
   "outputs": [
    {
     "name": "stdout",
     "output_type": "stream",
     "text": [
      "99999\n",
      "99999\n",
      "99999\n",
      "99999\n",
      "99999\n",
      "99999\n",
      "99998\n",
      "99998\n",
      "99998\n",
      "99999\n",
      "99998\n",
      "11217\n"
     ]
    },
    {
     "data": {
      "text/plain": [
       "12"
      ]
     },
     "execution_count": 16,
     "metadata": {},
     "output_type": "execute_result"
    }
   ],
   "source": [
    "txs = build_txs([S], int(S*0.009), verbose=True)\n",
    "len(txs)"
   ]
  },
  {
   "cell_type": "code",
   "execution_count": null,
   "metadata": {},
   "outputs": [],
   "source": []
  }
 ],
 "metadata": {
  "kernelspec": {
   "display_name": "Python 3",
   "language": "python",
   "name": "python3"
  },
  "language_info": {
   "codemirror_mode": {
    "name": "ipython",
    "version": 3
   },
   "file_extension": ".py",
   "mimetype": "text/x-python",
   "name": "python",
   "nbconvert_exporter": "python",
   "pygments_lexer": "ipython3",
   "version": "3.6.5"
  }
 },
 "nbformat": 4,
 "nbformat_minor": 2
}
